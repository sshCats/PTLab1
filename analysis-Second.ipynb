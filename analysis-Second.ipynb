{
 "cells": [
  {
   "cell_type": "code",
   "execution_count": 1,
   "id": "da031e1e-0213-4cf8-90d4-852de95d46fb",
   "metadata": {},
   "outputs": [],
   "source": [
    "# Import other modules not related to PySpark\n",
    "import os\n",
    "import sys\n",
    "import pandas as pd\n",
    "from pandas import DataFrame\n",
    "import numpy as np\n",
    "import matplotlib.pyplot as plt\n",
    "import matplotlib.ticker as mtick\n",
    "import matplotlib\n",
    "from mpl_toolkits.mplot3d import Axes3D\n",
    "import math\n",
    "from IPython.core.interactiveshell import InteractiveShell\n",
    "from datetime import *\n",
    "import statistics as stats\n",
    "import pylab \n",
    "import seaborn as sns\n",
    "import scipy.stats as scipy_stats\n",
    "from scipy.stats import probplot\n",
    "\n",
    "# This helps auto print out the items without explixitly using 'print'\n",
    "InteractiveShell.ast_node_interactivity = \"all\" \n",
    "%matplotlib inline"
   ]
  },
  {
   "cell_type": "code",
   "execution_count": 2,
   "id": "6ee08991-e0b6-4ebf-8e3e-b9c8891eacf7",
   "metadata": {},
   "outputs": [],
   "source": [
    "# Import PySpark related modules\n",
    "import pyspark\n",
    "from pyspark.rdd import RDD\n",
    "\n",
    "from pyspark.ml import Pipeline\n",
    "from pyspark.ml.feature import VectorAssembler, StringIndexer, VectorIndexer, MinMaxScaler, OneHotEncoder\n",
    "from pyspark.ml.classification import LogisticRegression\n",
    "from pyspark.ml.regression import GBTRegressor, LinearRegression\n",
    "from pyspark.ml.tuning import ParamGridBuilder, CrossValidator\n",
    "from pyspark.ml.evaluation import BinaryClassificationEvaluator, RegressionEvaluator\n",
    "\n",
    "from pyspark.sql import Row, DataFrame, SparkSession, SQLContext, functions, Window\n",
    "from pyspark.sql.types import DoubleType\n",
    "from pyspark.ml.stat import Correlation\n",
    "from pyspark.ml.feature import VectorAssembler, StringIndexer\n",
    "from pyspark.sql.functions import skewness, lit, desc, col,when, size, array_contains, row_number, \\\n",
    "isnan, udf, hour, array_min, array_max, countDistinct, median, collect_list, \\\n",
    "max, mean, min, stddev, monotonically_increasing_id  \n",
    "from pyspark.sql.types import *\n",
    "\n",
    "MAX_MEMORY = '10G'\n",
    "\n",
    "# Initialize a spark session.\n",
    "conf = pyspark.SparkConf().setMaster(\"local[*]\") \\\n",
    "        .set('spark.executor.heartbeatInterval', 10000) \\\n",
    "        .set('spark.network.timeout', 10000) \\\n",
    "        .set(\"spark.core.connection.ack.wait.timeout\", \"3600\") \\\n",
    "        .set(\"spark.executor.memory\", MAX_MEMORY) \\\n",
    "        .set(\"spark.driver.memory\", MAX_MEMORY)\n",
    "\n",
    "def init_spark():\n",
    "    spark = SparkSession \\\n",
    "        .builder \\\n",
    "        .appName(\"Pyspark guide\") \\\n",
    "        .config(conf=conf) \\\n",
    "        .getOrCreate()\n",
    "    return spark\n",
    "\n",
    "spark = init_spark()"
   ]
  },
  {
   "cell_type": "code",
   "execution_count": 19,
   "id": "ce158b4f-994c-4b60-b9f8-62e54335cc4c",
   "metadata": {},
   "outputs": [
    {
     "name": "stdout",
     "output_type": "stream",
     "text": [
      "Data frame type: <class 'pyspark.sql.dataframe.DataFrame'>\n"
     ]
    }
   ],
   "source": [
    "filename_data = 'itinerariesClear.csv'\n",
    "\n",
    "# Load the main data set into pyspark data frame \n",
    "df_z = spark.read.options(inferSchema='True', header='True', delimeter=',').csv(filename_data, mode='DROPMALFORMED')\n",
    "print('Data frame type: ' + str(type(df_z)))"
   ]
  },
  {
   "cell_type": "code",
   "execution_count": 20,
   "id": "fd92dfcc-7f11-41a5-b203-ff64272baa0a",
   "metadata": {},
   "outputs": [],
   "source": [
    "from pyspark.sql.functions import col"
   ]
  },
  {
   "cell_type": "code",
   "execution_count": 21,
   "id": "0ae12ef2-676a-493b-8f66-ce67a3f74446",
   "metadata": {},
   "outputs": [
    {
     "name": "stdout",
     "output_type": "stream",
     "text": [
      "+---------------+------------------+-----------+--------------+------------+---------+--------+---------+-----+\n",
      "|startingAirport|destinationAirport|elapsedDays|isBasicEconomy|isRefundable|isNonStop|baseFare|totalFare|label|\n",
      "+---------------+------------------+-----------+--------------+------------+---------+--------+---------+-----+\n",
      "|            LAX|               SFO|          0|             1|           0|        1|   26.98|     43.6|  339|\n",
      "|            LAX|               SFO|          0|             0|           0|        1|   26.98|     43.6|  339|\n",
      "|            LAX|               SFO|          0|             1|           0|        1|   26.98|     43.6|  339|\n",
      "|            LAX|               SFO|          0|             1|           0|        1|   26.98|     43.6|  339|\n",
      "|            LAX|               SFO|          0|             1|           0|        1|   45.58|     63.6|  339|\n",
      "|            LAX|               SFO|          0|             1|           0|        1|   45.58|     63.6|  339|\n",
      "|            LAX|               SFO|          0|             1|           0|        1|   59.53|     78.6|  339|\n",
      "|            LAX|               SFO|          0|             1|           0|        1|   59.53|     78.6|  339|\n",
      "|            LAX|               SFO|          0|             0|           0|        1|   64.19|     83.6|  339|\n",
      "|            LAX|               SFO|          0|             1|           0|        1|   68.84|     88.6|  339|\n",
      "+---------------+------------------+-----------+--------------+------------+---------+--------+---------+-----+\n",
      "only showing top 10 rows\n",
      "\n"
     ]
    }
   ],
   "source": [
    "data_subset = df_z.select(\n",
    " 'startingAirport',\n",
    " 'destinationAirport',\n",
    " 'elapsedDays',\n",
    " col('isBasicEconomy').cast('Int').alias('isBasicEconomy'),\n",
    " col('isRefundable').cast('Int').alias('isRefundable'),\n",
    " col('isNonStop').cast('Int').alias('isNonStop'),\n",
    " 'baseFare',\n",
    " 'totalFare',\n",
    " col('totalTravelDistance').alias('label')\n",
    ")\n",
    "data_subset.show(10)"
   ]
  },
  {
   "cell_type": "code",
   "execution_count": 22,
   "id": "1d64441f-aa23-47ea-b6c9-db94660ec888",
   "metadata": {},
   "outputs": [],
   "source": [
    "strIdx = StringIndexer(inputCols = ['startingAirport', 'destinationAirport'], outputCols \n",
    "= ['startingAirportIdx', 'destinationAirportIdx'])\n",
    "oneHotEnc = OneHotEncoder(inputCols=['startingAirportIdx', \n",
    "'destinationAirportIdx'], outputCols=['startingAirportEnc', 'destinationAirportEnc'])\n",
    "catVect = VectorAssembler(inputCols = ['startingAirportEnc', \n",
    "'destinationAirportEnc', 'isBasicEconomy', 'isRefundable', 'isNonStop'], \n",
    "outputCol='catFeatures')\n",
    "numVect = VectorAssembler(inputCols = ['baseFare', 'totalFare', 'elapsedDays'], \n",
    "outputCol='numFeatures')\n",
    "minMax = MinMaxScaler(inputCol = numVect.getOutputCol(), \n",
    "outputCol='normFeatures')\n",
    "featVect = VectorAssembler(inputCols=['catFeatures', 'normFeatures'], \n",
    "outputCol='features')\n",
    "lr = LinearRegression(labelCol='label', featuresCol='features')\n",
    "pipeline = Pipeline(stages=[strIdx, oneHotEnc, catVect, numVect, minMax, featVect, lr])"
   ]
  },
  {
   "cell_type": "code",
   "execution_count": 23,
   "id": "02409fd2-b0de-44dd-93c6-703a2109fdd9",
   "metadata": {},
   "outputs": [],
   "source": [
    "# Разделим данные на обучающую и тестовую выборки\n",
    "splits = data_subset.randomSplit([0.8, 0.2])\n",
    "train = splits[0]\n",
    "test = splits[1].withColumnRenamed('label', 'trueLabel')\n",
    "# Создаем сетку гиперпараметров\n",
    "paramGrid = ParamGridBuilder() \\\n",
    " .addGrid(lr.regParam, [0.0, 0.3, 0.5]) \\\n",
    " .addGrid(lr.maxIter, [50, 100, 150]).build() \n",
    "# Создаем кросс-валидатор\n",
    "\n",
    "crossval = CrossValidator(estimator=pipeline,\n",
    "    estimatorParamMaps=paramGrid,\n",
    "    evaluator=RegressionEvaluator(),\n",
    "    numFolds=3)\n",
    "model = crossval.fit(train)"
   ]
  },
  {
   "cell_type": "code",
   "execution_count": 24,
   "id": "9911118b-eef3-4ef3-858e-99d810ce7089",
   "metadata": {},
   "outputs": [
    {
     "name": "stdout",
     "output_type": "stream",
     "text": [
      "+---------------------------------------------------------------------+------------------+---------+\n",
      "|features                                                             |prediction        |trueLabel|\n",
      "+---------------------------------------------------------------------+------------------+---------+\n",
      "|(36,[8,20,33,34],[1.0,1.0,0.0014974220518085347,0.02482154316635108])|1193.823934407215 |1579     |\n",
      "|(36,[8,20,33,34],[1.0,1.0,0.0043391207183088205,0.01743238710938222])|1138.484621081247 |1579     |\n",
      "|(36,[8,20,33,34],[1.0,1.0,0.02229684123355814,0.023670123566337346]) |1114.6701002239838|947      |\n",
      "|(36,[8,20,33,34],[1.0,1.0,0.02229684123355814,0.023670123566337346]) |1114.6701002239838|947      |\n",
      "|(36,[8,20,33,34],[1.0,1.0,0.02229684123355814,0.023670123566337346]) |1114.6701002239838|947      |\n",
      "|(36,[8,20,33,34],[1.0,1.0,0.02229684123355814,0.023670123566337346]) |1114.6701002239838|947      |\n",
      "|(36,[8,20,33,34],[1.0,1.0,0.02229684123355814,0.023670123566337346]) |1114.6701002239838|1462     |\n",
      "|(36,[8,20,33,34],[1.0,1.0,0.025989347884040545,0.02697121186912901]) |1122.2006227961406|956      |\n",
      "|(36,[8,20,33,34],[1.0,1.0,0.025989347884040545,0.02697121186912901]) |1122.2006227961406|956      |\n",
      "|(36,[8,20,33,34],[1.0,1.0,0.025989347884040545,0.02736734246546401]) |1124.639518759932 |947      |\n",
      "|(36,[8,20,33,34],[1.0,1.0,0.02889343913603286,0.030272300171920674]) |1132.4628072021862|947      |\n",
      "|(36,[8,20,33,34],[1.0,1.0,0.032322195311480804,0.03370543200682401]) |1141.7201244141381|947      |\n",
      "|(36,[8,20,33,34],[1.0,1.0,0.03495970006182539,0.03634630264905734])  |1148.8411376541007|947      |\n",
      "|(36,[8,20,33,34],[1.0,1.0,0.043402551289541305,0.044400958107868996])|1169.179657936486 |956      |\n",
      "|(36,[8,20,33,34],[1.0,1.0,0.043402551289541305,0.044400958107868996])|1169.179657936486 |956      |\n",
      "|(36,[8,20,33,34],[1.0,1.0,0.043402551289541305,0.044400958107868996])|1169.179657936486 |956      |\n",
      "|(36,[8,20,33,34],[1.0,1.0,0.043402551289541305,0.044400958107868996])|1169.179657936486 |956      |\n",
      "|(36,[8,20,33,34],[1.0,1.0,0.043402551289541305,0.044400958107868996])|1169.179657936486 |956      |\n",
      "|(36,[8,20,33,34],[1.0,1.0,0.043402551289541305,0.044797088704204])   |1171.6185539002772|947      |\n",
      "|(36,[8,20,33,34],[1.0,1.0,0.044457553189679144,0.04585343696109733]) |1174.4669591962625|947      |\n",
      "|(36,[8,20,33,34],[1.0,1.0,0.044457553189679144,0.04585343696109733]) |1174.4669591962625|947      |\n",
      "|(36,[8,20,33,34],[1.0,1.0,0.044457553189679144,0.04585343696109733]) |1174.4669591962625|947      |\n",
      "|(36,[8,20,33,34],[1.0,1.0,0.044457553189679144,0.04585343696109733]) |1174.4669591962625|947      |\n",
      "|(36,[8,20,33,34],[1.0,1.0,0.048941311265264915,0.05034291705289399]) |1186.572681704199 |947      |\n",
      "|(36,[8,20,33,34],[1.0,1.0,0.052109152992291685,0.054990849383224655])|1204.2132830686044|947      |\n",
      "|(36,[8,20,33,34],[1.0,1.0,0.052109152992291685,0.054990849383224655])|1204.2132830686044|947      |\n",
      "|(36,[8,20,33,34],[1.0,1.0,0.052109152992291685,0.054990849383224655])|1204.2132830686044|947      |\n",
      "|(36,[8,20,33,34],[1.0,1.0,0.052109152992291685,0.054990849383224655])|1204.2132830686044|947      |\n",
      "|(36,[8,20,33,34],[1.0,1.0,0.05606541011780855,0.05707713719058899])  |1203.350695366603 |956      |\n",
      "|(36,[8,20,33,34],[1.0,1.0,0.05606541011780855,0.05707713719058899])  |1203.350695366603 |956      |\n",
      "|(36,[8,20,33,34],[1.0,1.0,0.05640856933801468,0.07595408054127284])  |1318.383256968212 |1579     |\n",
      "|(36,[8,20,33,34],[1.0,1.0,0.05640856933801468,0.07595408054127284])  |1318.383256968212 |1579     |\n",
      "|(36,[8,20,33,34],[1.0,1.0,0.05896666534318759,0.06037822549338065])  |1213.6227058943534|947      |\n",
      "|(36,[8,20,33,34],[1.0,1.0,0.06043572712886338,0.0696688084127575])   |1265.7330148554706|1579     |\n",
      "|(36,[8,20,33,34],[1.0,1.0,0.06529667674401457,0.06819256172374909])  |1239.8020899619933|947      |\n",
      "|(36,[8,20,33,34],[1.0,1.0,0.07057735829793028,0.07347958474950021])  |1254.05698281136  |947      |\n",
      "|(36,[8,20,33,34],[1.0,1.0,0.07057735829793028,0.07347958474950021])  |1254.05698281136  |947      |\n",
      "|(36,[8,20,33,34],[1.0,1.0,0.07057735829793028,0.07347958474950021])  |1254.05698281136  |947      |\n",
      "|(36,[8,20,33,34],[1.0,1.0,0.07057735829793028,0.07347958474950021])  |1254.05698281136  |947      |\n",
      "|(36,[8,20,33,34],[1.0,1.0,0.0718932746464893,0.07331849164032397])   |1248.5058446484666|947      |\n",
      "|(36,[8,20,33,34],[1.0,1.0,0.0718932746464893,0.07331849164032397])   |1248.5058446484666|947      |\n",
      "|(36,[8,20,33,34],[1.0,1.0,0.0718932746464893,0.07331849164032397])   |1248.5058446484666|947      |\n",
      "|(36,[8,20,33,34],[1.0,1.0,0.0718932746464893,0.07331849164032397])   |1248.5058446484666|947      |\n",
      "|(36,[8,20,33,34],[1.0,1.0,0.07637986874868834,0.07780797173212063])  |1260.601741034699 |947      |\n",
      "|(36,[8,20,33,34],[1.0,1.0,0.07717112017379171,0.08007912048444131])  |1271.843256604842 |947      |\n",
      "|(36,[8,20,33,34],[1.0,1.0,0.08376488204965316,0.08520240953037396])  |1280.5405781065947|947      |\n",
      "|(36,[8,20,33,34],[1.0,1.0,0.086405222826611,0.0878432801726073])     |1287.651765224853 |947      |\n",
      "|(36,[8,20,33,34],[1.0,1.0,0.08957022852702451,0.09101232494328729])  |1296.1969811128083|947      |\n",
      "|(36,[8,20,33,34],[1.0,1.0,0.09300182072908572,0.09444809764883286])  |1305.4607315094806|1856     |\n",
      "|(36,[8,20,33,34],[1.0,1.0,0.09300182072908572,0.09444809764883286])  |1305.4607315094806|1856     |\n",
      "+---------------------------------------------------------------------+------------------+---------+\n",
      "only showing top 50 rows\n",
      "\n"
     ]
    }
   ],
   "source": [
    "predictions = model.transform(test)\n",
    "predictions = predictions.select('features', 'prediction', 'trueLabel')\n",
    "predictions.show(50, truncate=False)\n"
   ]
  },
  {
   "cell_type": "code",
   "execution_count": 25,
   "id": "ce312efd-7a57-4a74-8e5a-586f761664e9",
   "metadata": {},
   "outputs": [
    {
     "name": "stdout",
     "output_type": "stream",
     "text": [
      "Metric \"RMSE\" on test data: 290714.957\n",
      "Metric \"mae\" on test data: 408.020\n",
      "Metric \"rmse\" on test data: 539.180\n",
      "Metric \"R^2\" on test data: 0.556\n"
     ]
    }
   ],
   "source": [
    "evaluator_mse = RegressionEvaluator(labelCol='trueLabel', \n",
    "predictionCol='prediction', metricName=\"mse\")\n",
    "mse = evaluator_mse.evaluate(predictions)\n",
    "print(f'Metric \"RMSE\" on test data: {mse:.3f}')\n",
    "evaluator_mae = RegressionEvaluator(labelCol='trueLabel', \n",
    "predictionCol='prediction', metricName=\"mae\")\n",
    "mae = evaluator_mae.evaluate(predictions)\n",
    "print(f'Metric \"mae\" on test data: {mae:.3f}')\n",
    "evaluator_rmse = RegressionEvaluator(labelCol='trueLabel', \n",
    "predictionCol='prediction', metricName=\"rmse\")\n",
    "rmse = evaluator_rmse.evaluate(predictions)\n",
    "print(f'Metric \"rmse\" on test data: {rmse:.3f}')\n",
    "evaluator_r2 = RegressionEvaluator(labelCol='trueLabel', predictionCol='prediction', \n",
    "metricName=\"r2\")\n",
    "r2 = evaluator_r2.evaluate(predictions)\n",
    "print(f'Metric \"R^2\" on test data: {r2:.3f}')\n"
   ]
  },
  {
   "cell_type": "code",
   "execution_count": 26,
   "id": "71c848dc-ea4c-43ce-8ebc-c938a26a5276",
   "metadata": {},
   "outputs": [
    {
     "name": "stdout",
     "output_type": "stream",
     "text": [
      "Лучшие параметры модели LinearRegression:\n",
      "aggregationDepth: 2\n",
      "elasticNetParam: 0.0\n",
      "epsilon: 1.35\n",
      "featuresCol: features\n",
      "fitIntercept: True\n",
      "labelCol: label\n",
      "loss: squaredError\n",
      "maxBlockSizeInMB: 0.0\n",
      "maxIter: 50\n",
      "predictionCol: prediction\n",
      "regParam: 0.0\n",
      "solver: auto\n",
      "standardization: True\n",
      "tol: 1e-06\n"
     ]
    }
   ],
   "source": [
    "# Вывод лучших параметров\n",
    "best_model = model.bestModel\n",
    "best_parameters = best_model.stages[-1].extractParamMap()\n",
    "\n",
    "print(\"Лучшие параметры модели LinearRegression:\")\n",
    "for param, value in best_parameters.items():\n",
    " print(f\"{param.name}: {value}\")\n"
   ]
  }
 ],
 "metadata": {
  "kernelspec": {
   "display_name": "Python 3 (ipykernel)",
   "language": "python",
   "name": "python3"
  },
  "language_info": {
   "codemirror_mode": {
    "name": "ipython",
    "version": 3
   },
   "file_extension": ".py",
   "mimetype": "text/x-python",
   "name": "python",
   "nbconvert_exporter": "python",
   "pygments_lexer": "ipython3",
   "version": "3.11.6"
  }
 },
 "nbformat": 4,
 "nbformat_minor": 5
}
