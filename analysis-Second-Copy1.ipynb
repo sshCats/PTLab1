{
 "cells": [
  {
   "cell_type": "code",
   "execution_count": 1,
   "id": "da031e1e-0213-4cf8-90d4-852de95d46fb",
   "metadata": {},
   "outputs": [],
   "source": [
    "# Import other modules not related to PySpark\n",
    "import os\n",
    "import sys\n",
    "import pandas as pd\n",
    "from pandas import DataFrame\n",
    "import numpy as np\n",
    "import matplotlib.pyplot as plt\n",
    "import matplotlib.ticker as mtick\n",
    "import matplotlib\n",
    "from mpl_toolkits.mplot3d import Axes3D\n",
    "import math\n",
    "from IPython.core.interactiveshell import InteractiveShell\n",
    "from datetime import *\n",
    "import statistics as stats\n",
    "import pylab \n",
    "import seaborn as sns\n",
    "import scipy.stats as scipy_stats\n",
    "from scipy.stats import probplot\n",
    "\n",
    "# This helps auto print out the items without explixitly using 'print'\n",
    "InteractiveShell.ast_node_interactivity = \"all\" \n",
    "%matplotlib inline"
   ]
  },
  {
   "cell_type": "code",
   "execution_count": 2,
   "id": "6ee08991-e0b6-4ebf-8e3e-b9c8891eacf7",
   "metadata": {},
   "outputs": [],
   "source": [
    "# Import PySpark related modules\n",
    "import pyspark\n",
    "from pyspark.rdd import RDD\n",
    "\n",
    "from pyspark.ml import Pipeline\n",
    "from pyspark.ml.feature import VectorAssembler, StringIndexer, VectorIndexer, MinMaxScaler, OneHotEncoder\n",
    "from pyspark.ml.classification import LogisticRegression\n",
    "from pyspark.ml.regression import GBTRegressor, LinearRegression\n",
    "from pyspark.ml.tuning import ParamGridBuilder, CrossValidator\n",
    "from pyspark.ml.evaluation import BinaryClassificationEvaluator, RegressionEvaluator\n",
    "\n",
    "from pyspark.sql import Row, DataFrame, SparkSession, SQLContext, functions, Window\n",
    "from pyspark.sql.types import DoubleType\n",
    "from pyspark.ml.stat import Correlation\n",
    "from pyspark.ml.feature import VectorAssembler, StringIndexer\n",
    "from pyspark.sql.functions import skewness, lit, desc, col,when, size, array_contains, row_number, \\\n",
    "isnan, udf, hour, array_min, array_max, countDistinct, median, collect_list, \\\n",
    "max, mean, min, stddev, monotonically_increasing_id  \n",
    "from pyspark.sql.types import *\n",
    "\n",
    "MAX_MEMORY = '10G'\n",
    "\n",
    "# Initialize a spark session.\n",
    "conf = pyspark.SparkConf().setMaster(\"local[*]\") \\\n",
    "        .set('spark.executor.heartbeatInterval', 10000) \\\n",
    "        .set('spark.network.timeout', 10000) \\\n",
    "        .set(\"spark.core.connection.ack.wait.timeout\", \"3600\") \\\n",
    "        .set(\"spark.executor.memory\", MAX_MEMORY) \\\n",
    "        .set(\"spark.driver.memory\", MAX_MEMORY)\n",
    "\n",
    "def init_spark():\n",
    "    spark = SparkSession \\\n",
    "        .builder \\\n",
    "        .appName(\"Pyspark guide\") \\\n",
    "        .config(conf=conf) \\\n",
    "        .getOrCreate()\n",
    "    return spark\n",
    "\n",
    "spark = init_spark()"
   ]
  },
  {
   "cell_type": "code",
   "execution_count": 3,
   "id": "ce158b4f-994c-4b60-b9f8-62e54335cc4c",
   "metadata": {},
   "outputs": [
    {
     "name": "stdout",
     "output_type": "stream",
     "text": [
      "Data frame type: <class 'pyspark.sql.dataframe.DataFrame'>\n"
     ]
    }
   ],
   "source": [
    "filename_data = 'itinerariesClear.csv'\n",
    "\n",
    "# Load the main data set into pyspark data frame \n",
    "df_z = spark.read.options(inferSchema='True', header='True', delimeter=',').csv(filename_data, mode='DROPMALFORMED')\n",
    "print('Data frame type: ' + str(type(df_z)))"
   ]
  },
  {
   "cell_type": "code",
   "execution_count": 4,
   "id": "fd92dfcc-7f11-41a5-b203-ff64272baa0a",
   "metadata": {},
   "outputs": [],
   "source": [
    "from pyspark.sql.functions import col"
   ]
  },
  {
   "cell_type": "code",
   "execution_count": 5,
   "id": "0ae12ef2-676a-493b-8f66-ce67a3f74446",
   "metadata": {},
   "outputs": [
    {
     "name": "stdout",
     "output_type": "stream",
     "text": [
      "+---------------+------------------+-----------+--------------+------------+---------+--------+---------+-----+\n",
      "|startingAirport|destinationAirport|elapsedDays|isBasicEconomy|isRefundable|isNonStop|baseFare|totalFare|label|\n",
      "+---------------+------------------+-----------+--------------+------------+---------+--------+---------+-----+\n",
      "|            LAX|               SFO|          0|             1|           0|        1|   26.98|     43.6|  339|\n",
      "|            LAX|               SFO|          0|             0|           0|        1|   26.98|     43.6|  339|\n",
      "|            LAX|               SFO|          0|             1|           0|        1|   26.98|     43.6|  339|\n",
      "|            LAX|               SFO|          0|             1|           0|        1|   26.98|     43.6|  339|\n",
      "|            LAX|               SFO|          0|             1|           0|        1|   45.58|     63.6|  339|\n",
      "|            LAX|               SFO|          0|             1|           0|        1|   45.58|     63.6|  339|\n",
      "|            LAX|               SFO|          0|             1|           0|        1|   59.53|     78.6|  339|\n",
      "|            LAX|               SFO|          0|             1|           0|        1|   59.53|     78.6|  339|\n",
      "|            LAX|               SFO|          0|             0|           0|        1|   64.19|     83.6|  339|\n",
      "|            LAX|               SFO|          0|             1|           0|        1|   68.84|     88.6|  339|\n",
      "+---------------+------------------+-----------+--------------+------------+---------+--------+---------+-----+\n",
      "only showing top 10 rows\n",
      "\n"
     ]
    }
   ],
   "source": [
    "data_subset = df_z.select(\n",
    " 'startingAirport',\n",
    " 'destinationAirport',\n",
    " 'elapsedDays',\n",
    " col('isBasicEconomy').cast('Int').alias('isBasicEconomy'),\n",
    " col('isRefundable').cast('Int').alias('isRefundable'),\n",
    " col('isNonStop').cast('Int').alias('isNonStop'),\n",
    " 'baseFare',\n",
    " 'totalFare',\n",
    " col('totalTravelDistance').alias('label')\n",
    ")\n",
    "data_subset.show(10)"
   ]
  },
  {
   "cell_type": "code",
   "execution_count": 6,
   "id": "aa5e3207-8e19-439c-9f43-d02e42585828",
   "metadata": {},
   "outputs": [
    {
     "name": "stdout",
     "output_type": "stream",
     "text": [
      "+---------------+------------------+-----------+--------------+------------+---------+--------+---------+-----+\n",
      "|startingAirport|destinationAirport|elapsedDays|isBasicEconomy|isRefundable|isNonStop|baseFare|totalFare|label|\n",
      "+---------------+------------------+-----------+--------------+------------+---------+--------+---------+-----+\n",
      "|            LAX|               SFO|          0|             1|           0|        1|   26.98|     43.6|    0|\n",
      "|            LAX|               SFO|          0|             0|           0|        1|   26.98|     43.6|    0|\n",
      "|            LAX|               SFO|          0|             1|           0|        1|   26.98|     43.6|    0|\n",
      "|            LAX|               SFO|          0|             1|           0|        1|   26.98|     43.6|    0|\n",
      "|            LAX|               SFO|          0|             1|           0|        1|   45.58|     63.6|    0|\n",
      "|            LAX|               SFO|          0|             1|           0|        1|   45.58|     63.6|    0|\n",
      "|            LAX|               SFO|          0|             1|           0|        1|   59.53|     78.6|    0|\n",
      "|            LAX|               SFO|          0|             1|           0|        1|   59.53|     78.6|    0|\n",
      "|            LAX|               SFO|          0|             0|           0|        1|   64.19|     83.6|    0|\n",
      "|            LAX|               SFO|          0|             1|           0|        1|   68.84|     88.6|    0|\n",
      "+---------------+------------------+-----------+--------------+------------+---------+--------+---------+-----+\n",
      "only showing top 10 rows\n",
      "\n"
     ]
    }
   ],
   "source": [
    "from pyspark.ml.classification import GBTClassifier\n",
    "from pyspark.ml.evaluation import BinaryClassificationEvaluator\n",
    "from pyspark.ml.tuning import ParamGridBuilder, CrossValidator\n",
    "data_class = df_z.select(\n",
    " 'startingAirport',\n",
    " 'destinationAirport',\n",
    " 'elapsedDays',\n",
    " col('isBasicEconomy').cast('Int').alias('isBasicEconomy'),\n",
    " col('isRefundable').cast('Int').alias('isRefundable'),\n",
    " col('isNonStop').cast('Int').alias('isNonStop'),\n",
    " 'baseFare',\n",
    " 'totalFare',\n",
    " (col('totalTravelDistance') > 1500).cast('Int').alias('label')\n",
    ")\n",
    "data_class.show(10)\n"
   ]
  },
  {
   "cell_type": "code",
   "execution_count": 7,
   "id": "369a18e8-ce38-4373-8f7b-05b6c7eee4e4",
   "metadata": {},
   "outputs": [],
   "source": [
    "strIdx = StringIndexer(inputCols = ['startingAirport', 'destinationAirport'], outputCols \n",
    "= ['startingAirportIdx', 'destinationAirportIdx'])\n",
    "oneHotEnc = OneHotEncoder(inputCols=['startingAirportIdx', \n",
    "'destinationAirportIdx'], outputCols=['startingAirportEnc', 'destinationAirportEnc'])\n",
    "catVect = VectorAssembler(inputCols=['startingAirportEnc', 'destinationAirportEnc', \n",
    "'isBasicEconomy', 'isRefundable', 'isNonStop'], outputCol='catFeatures')\n",
    "numVect = VectorAssembler(inputCols=['baseFare', 'totalFare', 'elapsedDays'], \n",
    "outputCol='numFeatures')\n",
    "minMax = MinMaxScaler(inputCol=numVect.getOutputCol(), \n",
    "outputCol='normFeatures')\n",
    "\n",
    "featVect = VectorAssembler(inputCols=['catFeatures', 'normFeatures'], \n",
    "outputCol='features')\n",
    "gbt = GBTClassifier(labelCol='label', featuresCol='features', maxDepth=4, \n",
    "maxBins=16)\n",
    "pipeline = Pipeline(stages=[strIdx, oneHotEnc, catVect, numVect, minMax, featVect, \n",
    "gbt])\n"
   ]
  },
  {
   "cell_type": "code",
   "execution_count": 8,
   "id": "3d7f88b9-a530-4d7a-adb1-9e1767fd716c",
   "metadata": {},
   "outputs": [
    {
     "name": "stdout",
     "output_type": "stream",
     "text": [
      "Positive to Negative Class Ratio: 1.008926585165657\n"
     ]
    }
   ],
   "source": [
    "splits = data_class.randomSplit([0.8, 0.2])\n",
    "train = splits[0]\n",
    "test = splits[1].withColumnRenamed('label', 'trueLabel')\n",
    "positive_count = train.filter(col(\"label\") == 1).count()\n",
    "negative_count = train.filter(col(\"label\") == 0).count()\n",
    "balance_ratio = positive_count / negative_count\n",
    "print(\"Positive to Negative Class Ratio:\", balance_ratio)\n"
   ]
  },
  {
   "cell_type": "code",
   "execution_count": 9,
   "id": "0e438a5f-54bc-464b-a041-cb76399f4ab7",
   "metadata": {},
   "outputs": [],
   "source": [
    "paramGrid = (ParamGridBuilder() \\\n",
    " .addGrid(gbt.maxDepth, [2, 4, 6]) \\\n",
    " .addGrid(gbt.maxBins, [8, 16, 32]) \\\n",
    " .build())\n",
    "crossval = CrossValidator(\n",
    " estimator=pipeline,\n",
    " evaluator=BinaryClassificationEvaluator(),\n",
    " estimatorParamMaps=paramGrid,\n",
    " numFolds=2\n",
    ")\n",
    "model = crossval.fit(train)\n"
   ]
  },
  {
   "cell_type": "code",
   "execution_count": 12,
   "id": "22b8dde4-0053-459b-a442-23c7d481669f",
   "metadata": {},
   "outputs": [],
   "source": [
    "prediction = model.transform(test)"
   ]
  },
  {
   "cell_type": "code",
   "execution_count": 13,
   "id": "714449f4-bd80-4649-ad93-b21bcc90c0f0",
   "metadata": {},
   "outputs": [
    {
     "name": "stdout",
     "output_type": "stream",
     "text": [
      "DataFrame[startingAirport: string, destinationAirport: string, elapsedDays: int, isBasicEconomy: int, isRefundable: int, isNonStop: int, baseFare: double, totalFare: double, trueLabel: int, startingAirportIdx: double, destinationAirportIdx: double, startingAirportEnc: vector, destinationAirportEnc: vector, catFeatures: vector, numFeatures: vector, normFeatures: vector, features: vector, rawPrediction: vector, probability: vector, prediction: double]\n"
     ]
    }
   ],
   "source": [
    "print(prediction)"
   ]
  },
  {
   "cell_type": "code",
   "execution_count": 15,
   "id": "0281a53a-2043-4469-b251-572d9e367887",
   "metadata": {},
   "outputs": [
    {
     "name": "stdout",
     "output_type": "stream",
     "text": [
      "+---------------------------------------------------------------------+----------+---------+\n",
      "|features                                                             |prediction|trueLabel|\n",
      "+---------------------------------------------------------------------+----------+---------+\n",
      "|(36,[8,20,33,34],[1.0,1.0,0.011627709114422331,0.017881335118561888])|1.0       |1        |\n",
      "|(36,[8,20,33,34],[1.0,1.0,0.02229684123355814,0.023273992970002346]) |0.0       |0        |\n",
      "|(36,[8,20,33,34],[1.0,1.0,0.02229684123355814,0.023670123566337346]) |0.0       |0        |\n",
      "|(36,[8,20,33,34],[1.0,1.0,0.02229684123355814,0.023670123566337346]) |0.0       |0        |\n",
      "|(36,[8,20,33,34],[1.0,1.0,0.02229684123355814,0.023670123566337346]) |0.0       |0        |\n",
      "|(36,[8,20,33,34],[1.0,1.0,0.02229684123355814,0.023670123566337346]) |0.0       |0        |\n",
      "|(36,[8,20,33,34],[1.0,1.0,0.02229684123355814,0.023670123566337346]) |0.0       |0        |\n",
      "|(36,[8,20,33,34],[1.0,1.0,0.02229684123355814,0.023670123566337346]) |0.0       |0        |\n",
      "|(36,[8,20,33,34],[1.0,1.0,0.024134586478959524,0.035865664192170875])|1.0       |1        |\n",
      "|(36,[8,20,33,34],[1.0,1.0,0.025989347884040545,0.02697121186912901]) |0.0       |0        |\n",
      "|(36,[8,20,33,34],[1.0,1.0,0.025989347884040545,0.02697121186912901]) |0.0       |0        |\n",
      "|(36,[8,20,33,34],[1.0,1.0,0.025989347884040545,0.02736734246546401]) |0.0       |0        |\n",
      "|(36,[8,20,33,34],[1.0,1.0,0.025989347884040545,0.02736734246546401]) |0.0       |0        |\n",
      "|(36,[8,20,33,34],[1.0,1.0,0.025989347884040545,0.02736734246546401]) |0.0       |0        |\n",
      "|(36,[8,20,33,34],[1.0,1.0,0.029948441036170687,0.031328648428814006])|0.0       |0        |\n",
      "|(36,[8,20,33,34],[1.0,1.0,0.030212191511205144,0.03159273549303734]) |0.0       |0        |\n",
      "|(36,[8,20,33,34],[1.0,1.0,0.03258594578651527,0.03396951907104734])  |0.0       |0        |\n",
      "|(36,[8,20,33,34],[1.0,1.0,0.03364094768665309,0.036504754887591334]) |0.0       |0        |\n",
      "|(36,[8,20,33,34],[1.0,1.0,0.043402551289541305,0.044400958107868996])|0.0       |0        |\n",
      "|(36,[8,20,33,34],[1.0,1.0,0.043402551289541305,0.044400958107868996])|0.0       |0        |\n",
      "|(36,[8,20,33,34],[1.0,1.0,0.043402551289541305,0.044400958107868996])|0.0       |0        |\n",
      "|(36,[8,20,33,34],[1.0,1.0,0.043402551289541305,0.044400958107868996])|0.0       |0        |\n",
      "|(36,[8,20,33,34],[1.0,1.0,0.044457553189679144,0.04585343696109733]) |0.0       |0        |\n",
      "|(36,[8,20,33,34],[1.0,1.0,0.044457553189679144,0.04585343696109733]) |0.0       |0        |\n",
      "|(36,[8,20,33,34],[1.0,1.0,0.048941311265264915,0.05034291705289399]) |0.0       |0        |\n",
      "|(36,[8,20,33,34],[1.0,1.0,0.048941311265264915,0.05034291705289399]) |0.0       |0        |\n",
      "|(36,[8,20,33,34],[1.0,1.0,0.048941311265264915,0.05034291705289399]) |0.0       |0        |\n",
      "|(36,[8,20,33,34],[1.0,1.0,0.052109152992291685,0.054990849383224655])|0.0       |0        |\n",
      "|(36,[8,20,33,34],[1.0,1.0,0.052109152992291685,0.054990849383224655])|0.0       |0        |\n",
      "|(36,[8,20,33,34],[1.0,1.0,0.052109152992291685,0.054990849383224655])|0.0       |0        |\n",
      "|(36,[8,20,33,34],[1.0,1.0,0.05606541011780855,0.05707713719058899])  |0.0       |0        |\n",
      "|(36,[8,20,33,34],[1.0,1.0,0.05606541011780855,0.05707713719058899])  |0.0       |0        |\n",
      "|(36,[8,20,33,34],[1.0,1.0,0.0587057508947664,0.06130517108880455])   |0.0       |0        |\n",
      "|(36,[8,20,33,34],[1.0,1.0,0.05896666534318759,0.06037822549338065])  |0.0       |0        |\n",
      "|(36,[8,20,33,34],[1.0,1.0,0.05896666534318759,0.06037822549338065])  |0.0       |0        |\n",
      "|(36,[8,20,33,34],[1.0,1.0,0.05896666534318759,0.06037822549338065])  |0.0       |0        |\n",
      "|(36,[8,20,33,34],[1.0,1.0,0.06266200802028328,0.06555433195215798])  |0.0       |0        |\n",
      "|(36,[8,20,33,34],[1.0,1.0,0.06925576989614472,0.07215650855774132])  |0.0       |0        |\n",
      "|(36,[8,20,33,34],[1.0,1.0,0.07057735829793028,0.07347958474950021])  |0.0       |0        |\n",
      "|(36,[8,20,33,34],[1.0,1.0,0.07057735829793028,0.07347958474950021])  |0.0       |0        |\n",
      "|(36,[8,20,33,34],[1.0,1.0,0.0718932746464893,0.07292236104398897])   |0.0       |0        |\n",
      "|(36,[8,20,33,34],[1.0,1.0,0.0718932746464893,0.07331849164032397])   |0.0       |0        |\n",
      "|(36,[8,20,33,34],[1.0,1.0,0.0718932746464893,0.07331849164032397])   |0.0       |0        |\n",
      "|(36,[8,20,33,34],[1.0,1.0,0.0718932746464893,0.07331849164032397])   |0.0       |0        |\n",
      "|(36,[8,20,33,34],[1.0,1.0,0.0718932746464893,0.07331849164032397])   |0.0       |0        |\n",
      "|(36,[8,20,33,34],[1.0,1.0,0.0718932746464893,0.07331849164032397])   |0.0       |0        |\n",
      "|(36,[8,20,33,34],[1.0,1.0,0.07453361542344714,0.0759593622825573])   |0.0       |0        |\n",
      "|(36,[8,20,33,34],[1.0,1.0,0.07717112017379171,0.07860023292479064])  |0.0       |0        |\n",
      "|(36,[8,20,33,34],[1.0,1.0,0.08086362682427413,0.0822974518239173])   |0.0       |0        |\n",
      "|(36,[8,20,33,34],[1.0,1.0,0.08376488204965316,0.08520240953037396])  |0.0       |0        |\n",
      "+---------------------------------------------------------------------+----------+---------+\n",
      "only showing top 50 rows\n",
      "\n"
     ]
    }
   ],
   "source": [
    "predictions = model.transform(test)\n",
    "predictions = predictions.select('features', 'prediction', 'trueLabel')\n",
    "predictions.show(50, truncate=False)\n"
   ]
  },
  {
   "cell_type": "code",
   "execution_count": 16,
   "id": "1399e4d5-9ad2-4a8c-a24a-7094d6de9573",
   "metadata": {},
   "outputs": [
    {
     "name": "stdout",
     "output_type": "stream",
     "text": [
      "Area under ROC curve (cross-validated): 0.9512634443328679\n",
      "Accuracy: 0.8785819823412424\n",
      "Precision: 0.9055139535896208\n",
      "Recall: 0.8466564220510263\n",
      "F1 Score: 0.8750966398266532\n"
     ]
    }
   ],
   "source": [
    "evaluator = BinaryClassificationEvaluator(labelCol='trueLabel', \n",
    "rawPredictionCol='rawPrediction', metricName=\"areaUnderROC\")\n",
    "# Оценка качества модели\n",
    "\n",
    "area_under_roc_cv = evaluator.evaluate(prediction)\n",
    "print(f\"Area under ROC curve (cross-validated): {area_under_roc_cv}\")\n",
    "# Метрики классификации\n",
    "true_positives = predictions.filter(\"prediction == 1.0 AND trueLabel == 1\").count()\n",
    "true_negatives = predictions.filter(\"prediction == 0.0 AND trueLabel == 0\").count()\n",
    "false_positives = predictions.filter(\"prediction == 1.0 AND trueLabel == 0\").count()\n",
    "false_negatives = predictions.filter(\"prediction == 0.0 AND trueLabel == 1\").count()\n",
    "# Accuracy (точность)\n",
    "accuracy = (true_positives + true_negatives) / (true_positives + true_negatives + false_positives + false_negatives)\n",
    "print(f\"Accuracy: {accuracy}\")\n",
    "# Precision (точность)\n",
    "precision = true_positives / (true_positives + false_positives)\n",
    "print(f\"Precision: {precision}\")\n",
    "# Recall (полнота)\n",
    "recall = true_positives / (true_positives + false_negatives)\n",
    "print(f\"Recall: {recall}\")\n",
    "# F1 Score (F-мера)\n",
    "f1_score = 2 * (precision * recall) / (precision + recall)\n",
    "print(f\"F1 Score: {f1_score}\")\n"
   ]
  },
  {
   "cell_type": "code",
   "execution_count": null,
   "id": "c4b3dd31-5c41-41ba-a2c7-f7cfb005694d",
   "metadata": {},
   "outputs": [],
   "source": [
    "print(true_positives,true_negatives,false_positives,false_negatives)"
   ]
  },
  {
   "cell_type": "code",
   "execution_count": null,
   "id": "be5ae7d8-d471-450b-bdbb-377e944f50bc",
   "metadata": {},
   "outputs": [],
   "source": [
    "print(predictions.show(5))"
   ]
  },
  {
   "cell_type": "code",
   "execution_count": 17,
   "id": "869ecb6e-eefa-47e1-86ad-933aceaeaa94",
   "metadata": {},
   "outputs": [
    {
     "name": "stdout",
     "output_type": "stream",
     "text": [
      "\n",
      " Confusion Matrix:\n",
      "True Positives: 83195\n",
      "True Negatives: 88653\n",
      "False Positives: 8681\n",
      "False Negatives: 15068\n",
      "Лучшие параметры модели:\n",
      "cacheNodeIds: False\n",
      "checkpointInterval: 10\n",
      "featureSubsetStrategy: all\n",
      "featuresCol: features\n",
      "impurity: variance\n",
      "labelCol: label\n",
      "leafCol: \n",
      "lossType: logistic\n",
      "maxBins: 32\n",
      "maxDepth: 6\n",
      "maxIter: 20\n",
      "maxMemoryInMB: 256\n",
      "minInfoGain: 0.0\n",
      "minInstancesPerNode: 1\n",
      "minWeightFractionPerNode: 0.0\n",
      "predictionCol: prediction\n",
      "probabilityCol: probability\n",
      "rawPredictionCol: rawPrediction\n",
      "seed: 7815301344688142822\n",
      "stepSize: 0.1\n",
      "subsamplingRate: 1.0\n",
      "validationTol: 0.01\n"
     ]
    }
   ],
   "source": [
    "# Вывод матрицы ошибок (Confusion Matrix)\n",
    "print(\"\\n Confusion Matrix:\")\n",
    "print(f\"True Positives: {true_positives}\")\n",
    "print(f\"True Negatives: {true_negatives}\")\n",
    "print(f\"False Positives: {false_positives}\")\n",
    "print(f\"False Negatives: {false_negatives}\")\n",
    "best_model = model.bestModel\n",
    "print(\"Лучшие параметры модели:\")\n",
    "for param_name, param_value in best_model.stages[-1].extractParamMap().items():\n",
    " print(f\"{param_name.name}: {param_value}\")"
   ]
  },
  {
   "cell_type": "code",
   "execution_count": null,
   "id": "3a998d16-a90d-4fd3-8634-4a4350187b5d",
   "metadata": {},
   "outputs": [],
   "source": []
  }
 ],
 "metadata": {
  "kernelspec": {
   "display_name": "Python 3 (ipykernel)",
   "language": "python",
   "name": "python3"
  },
  "language_info": {
   "codemirror_mode": {
    "name": "ipython",
    "version": 3
   },
   "file_extension": ".py",
   "mimetype": "text/x-python",
   "name": "python",
   "nbconvert_exporter": "python",
   "pygments_lexer": "ipython3",
   "version": "3.11.6"
  }
 },
 "nbformat": 4,
 "nbformat_minor": 5
}
